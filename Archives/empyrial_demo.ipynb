{
 "cells": [
  {
   "cell_type": "code",
   "execution_count": 5,
   "metadata": {},
   "outputs": [
    {
     "name": "stdout",
     "output_type": "stream",
     "text": [
      "Defaulting to user installation because normal site-packages is not writeable\n",
      "Collecting empyrial\n",
      "  Using cached empyrial-2.1.4-py3-none-any.whl.metadata (614 bytes)\n",
      "Requirement already satisfied: numpy in c:\\programdata\\anaconda3\\lib\\site-packages (from empyrial) (1.26.4)\n",
      "Requirement already satisfied: matplotlib in c:\\programdata\\anaconda3\\lib\\site-packages (from empyrial) (3.8.4)\n",
      "Collecting datetime (from empyrial)\n",
      "  Using cached DateTime-5.5-py3-none-any.whl.metadata (33 kB)\n",
      "Collecting empyrical (from empyrial)\n",
      "  Using cached empyrical-0.5.5.tar.gz (52 kB)\n",
      "  Preparing metadata (setup.py): started\n",
      "  Preparing metadata (setup.py): finished with status 'error'\n"
     ]
    },
    {
     "name": "stderr",
     "output_type": "stream",
     "text": [
      "  error: subprocess-exited-with-error\n",
      "  \n",
      "  × python setup.py egg_info did not run successfully.\n",
      "  │ exit code: 1\n",
      "  ╰─> [18 lines of output]\n",
      "      C:\\Users\\Sakshi Aherkar\\AppData\\Local\\Temp\\pip-install-vfoa4m7k\\empyrical_79040e4862434328b0a002788fac5e1a\\versioneer.py:485: SyntaxWarning: invalid escape sequence '\\s'\n",
      "        LONG_VERSION_PY['git'] = '''\n",
      "      Traceback (most recent call last):\n",
      "        File \"<string>\", line 2, in <module>\n",
      "        File \"<pip-setuptools-caller>\", line 34, in <module>\n",
      "        File \"C:\\Users\\Sakshi Aherkar\\AppData\\Local\\Temp\\pip-install-vfoa4m7k\\empyrical_79040e4862434328b0a002788fac5e1a\\setup.py\", line 79, in <module>\n",
      "          version=versioneer.get_version(),\n",
      "                  ^^^^^^^^^^^^^^^^^^^^^^^^\n",
      "        File \"C:\\Users\\Sakshi Aherkar\\AppData\\Local\\Temp\\pip-install-vfoa4m7k\\empyrical_79040e4862434328b0a002788fac5e1a\\versioneer.py\", line 1473, in get_version\n",
      "          return get_versions()[\"version\"]\n",
      "                 ^^^^^^^^^^^^^^\n",
      "        File \"C:\\Users\\Sakshi Aherkar\\AppData\\Local\\Temp\\pip-install-vfoa4m7k\\empyrical_79040e4862434328b0a002788fac5e1a\\versioneer.py\", line 1406, in get_versions\n",
      "          cfg = get_config_from_root(root)\n",
      "                ^^^^^^^^^^^^^^^^^^^^^^^^^^\n",
      "        File \"C:\\Users\\Sakshi Aherkar\\AppData\\Local\\Temp\\pip-install-vfoa4m7k\\empyrical_79040e4862434328b0a002788fac5e1a\\versioneer.py\", line 412, in get_config_from_root\n",
      "          parser = configparser.SafeConfigParser()\n",
      "                   ^^^^^^^^^^^^^^^^^^^^^^^^^^^^^\n",
      "      AttributeError: module 'configparser' has no attribute 'SafeConfigParser'. Did you mean: 'RawConfigParser'?\n",
      "      [end of output]\n",
      "  \n",
      "  note: This error originates from a subprocess, and is likely not a problem with pip.\n",
      "error: metadata-generation-failed\n",
      "\n",
      "× Encountered error while generating package metadata.\n",
      "╰─> See above for output.\n",
      "\n",
      "note: This is an issue with the package mentioned above, not pip.\n",
      "hint: See above for details.\n"
     ]
    }
   ],
   "source": [
    "!pip install empyrial"
   ]
  },
  {
   "cell_type": "code",
   "execution_count": 3,
   "metadata": {},
   "outputs": [
    {
     "ename": "ModuleNotFoundError",
     "evalue": "No module named 'empyrial'",
     "output_type": "error",
     "traceback": [
      "\u001b[1;31m---------------------------------------------------------------------------\u001b[0m",
      "\u001b[1;31mModuleNotFoundError\u001b[0m                       Traceback (most recent call last)",
      "Cell \u001b[1;32mIn[3], line 1\u001b[0m\n\u001b[1;32m----> 1\u001b[0m \u001b[38;5;28;01mfrom\u001b[39;00m \u001b[38;5;21;01mempyrial\u001b[39;00m \u001b[38;5;28;01mimport\u001b[39;00m get_report, Engine\n\u001b[0;32m      3\u001b[0m portfolio \u001b[38;5;241m=\u001b[39m Engine(\n\u001b[0;32m      4\u001b[0m       start_date \u001b[38;5;241m=\u001b[39m \u001b[38;5;124m\"\u001b[39m\u001b[38;5;124m2018-08-01\u001b[39m\u001b[38;5;124m\"\u001b[39m,\n\u001b[0;32m      5\u001b[0m       portfolio \u001b[38;5;241m=\u001b[39m [\u001b[38;5;124m\"\u001b[39m\u001b[38;5;124mBABA\u001b[39m\u001b[38;5;124m\"\u001b[39m, \u001b[38;5;124m\"\u001b[39m\u001b[38;5;124mPDD\u001b[39m\u001b[38;5;124m\"\u001b[39m, \u001b[38;5;124m\"\u001b[39m\u001b[38;5;124mKO\u001b[39m\u001b[38;5;124m\"\u001b[39m, \u001b[38;5;124m\"\u001b[39m\u001b[38;5;124mAMD\u001b[39m\u001b[38;5;124m\"\u001b[39m,\u001b[38;5;124m\"\u001b[39m\u001b[38;5;124m^IXIC\u001b[39m\u001b[38;5;124m\"\u001b[39m],\n\u001b[1;32m   (...)\u001b[0m\n\u001b[0;32m      8\u001b[0m       risk_manager \u001b[38;5;241m=\u001b[39m {\u001b[38;5;124m\"\u001b[39m\u001b[38;5;124mStop Loss\u001b[39m\u001b[38;5;124m\"\u001b[39m : \u001b[38;5;241m-\u001b[39m\u001b[38;5;241m0.2\u001b[39m}\n\u001b[0;32m      9\u001b[0m )\n\u001b[0;32m     11\u001b[0m get_report(portfolio)\n",
      "\u001b[1;31mModuleNotFoundError\u001b[0m: No module named 'empyrial'"
     ]
    }
   ],
   "source": [
    "from empyrial import get_report, Engine\n",
    "\n",
    "portfolio = Engine(\n",
    "      start_date = \"2018-08-01\",\n",
    "      portfolio = [\"BABA\", \"PDD\", \"KO\", \"AMD\",\"^IXIC\"],\n",
    "      optimizer = \"EF\",\n",
    "      rebalance = \"1y\", #rebalance every year\n",
    "      risk_manager = {\"Stop Loss\" : -0.2}\n",
    ")\n",
    "\n",
    "get_report(portfolio)"
   ]
  }
 ],
 "metadata": {
  "kernelspec": {
   "display_name": "base",
   "language": "python",
   "name": "python3"
  },
  "language_info": {
   "codemirror_mode": {
    "name": "ipython",
    "version": 3
   },
   "file_extension": ".py",
   "mimetype": "text/x-python",
   "name": "python",
   "nbconvert_exporter": "python",
   "pygments_lexer": "ipython3",
   "version": "3.12.3"
  }
 },
 "nbformat": 4,
 "nbformat_minor": 2
}
